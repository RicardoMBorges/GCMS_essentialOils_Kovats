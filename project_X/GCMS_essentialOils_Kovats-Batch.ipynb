{
 "cells": [
  {
   "cell_type": "markdown",
   "id": "a551972b",
   "metadata": {},
   "source": [
    "## pós-Processamento de dados de GCMS de Óleos Essenciais com Índice de Kovats (mistura de hidrocarbonetos)\n",
    "\n",
    "#### INTRODUÇÃO\n",
    "\n",
    "O pipeline KIMSA (Kovats Index and Mass Spectral Annotation) foi desenvolvido para integrar abordagens complementares de identificação de compostos em óleos essenciais analisados por cromatografia gasosa acoplada à espectrometria de massas (GC-MS). O método combina a anotação baseada no índice de Kovats — calculado a partir dos tempos de retenção experimentais em comparação com uma série de alcanos — com a identificação espectral por similaridade de cosseno entre os espectros experimentais e uma biblioteca de referência.\n",
    "\n",
    "A integração dessas duas abordagens proporciona maior robustez e confiabilidade na identificação de compostos, permitindo verificar a consistência entre o comportamento cromatográfico (via índice de retenção) e o perfil espectral (via fragmentação de massa). O pipeline foi projetado para processar automaticamente arquivos no formato .mgf (espectros experimentais) e .msp (biblioteca), gerar anotações múltiplas acima de um limiar de similaridade, identificar redundâncias e produzir uma tabela consolidada para fins de análise e geração de laudos cromatográficos.\n",
    "\n",
    "##### Processamento no MZMine 3.9.0\n",
    "1. Detecção de massa (Mass Detection)\n",
    "2. Construção de cromatogramas (ADAP Chromatogram Builder)\n",
    "3. Deconvolução de picos cromatográficos (ADAP Peak Picking)\n",
    "4. Clusterização hierárquica (ADAP Hierarchical Clustering)\n",
    "\n",
    "##### Sugestão inicial (a ser otimizada)\n",
    "###### A partir do arquivo BATCH: `Essential_Oils_Batch.xml`\n",
    "\n",
    "| **Etapa**                   | **Parâmetro**                           | **Valor**                      | **Descrição**                                                   |\n",
    "|-----------------------------|----------------------------------------|--------------------------------|-----------------------------------------------------------------|\n",
    "| **Mass Detection**           | Detector                                | Centroid                       | Detector de picos centroidizados                                |\n",
    "|                             | Noise level                             | 10000.0                        | Limite mínimo de intensidade para detectar um pico              |\n",
    "|                             | Isótopos abaixo do noise level          | Ativado                        | Permite isótopos mesmo abaixo do limite de ruído               |\n",
    "|                             | Elementos para isótopos                 | H, C, N, O, S                  | Elementos considerados para detecção isotópica                  |\n",
    "|                             | Tolerância m/z isótopos                 | 0.5 Da ou 0.0 ppm            | Tolerância para agrupamento de isótopos                         |\n",
    "| **Chromatogram Builder**     | Mínimo de scans consecutivos            | 12                             | Número mínimo de pontos contínuos no cromatograma               |\n",
    "|                             | Intensidade mínima por scan              | 1000                           | Intensidade mínima para contar um scan válido                   |\n",
    "|                             | Altura mínima absoluta                  | 10000                          | Altura mínima do pico cromatográfico                            |\n",
    "|                             | Tolerância m/z entre scans              | 0.5 Da                         | Tolerância de variação de m/z entre pontos                      |\n",
    "| **ADAP Peak Picking**:      | S/N threshold                           | 5.0                            | Relação sinal/ruído mínima para detecção                        |\n",
    "|                             | Mínima altura do pico                   | 1000                           | Altura mínima de um pico para ser considerado                   |\n",
    "|                             | Coeficiente/área mínimo                 | 50                             | Mínimo coeficiente/área                                        |\n",
    "|                             | Intervalo de tempo do pico              | 0 - 10 min                     | Intervalo aceito para duração do pico                           |\n",
    "|                             | Pareamento com espectros MS/MS          | Ativado                        | Permite pareamento com espectros MS/MS                          |\n",
    "|                             | Tolerância precursor m/z                | 0.01 Da / 10 ppm               | Tolerância para pareamento de precursor                         |\n",
    "|                             | Filtro por tempo de retenção            | 0.2 min                        | Filtro de tempo de retenção                                     |\n",
    "| **ADAP Hierarchical Clustering**     | Distância mínima de cluster             | 0.01                           | Distância mínima para formar um cluster                         |\n",
    "|                             | Tamanho mínimo de cluster               | 2                              | Número mínimo de picos para formar um cluster                   |\n",
    "|                             | Intensidade mínima do cluster           | 500                            | Intensidade mínima de um cluster                                |\n",
    "|                             | Tolerância de similaridade de forma     | 60.0                           | Similaridade mínima para agrupar picos pela forma               |\n",
    "\n",
    "* Não alinhar os dados entre as amostras. Cada amostra terá um conjunto de 3 arquivos exportados: `_quant.csv`,  `.mgf`  e `_Chromatogram.xlsx`\n",
    "\n",
    "##### Requisitos de entrada (arquivos):\n",
    "| **Arquivo**              | **Formato** | **Origem**          | **Descrição**                                                                                           |\n",
    "| ------------------------ | ----------- | ------------------- | ------------------------------------------------------------------------------------------------------- |\n",
    "| Cromatograma  | `_Chromatogram.xlsx`      | Exportado do MZMine | Contém os _cromatogramas_ de massa experimentais no formato Excel (MS1).             |\n",
    "| Espectros experimentais  | `.mgf`      | Exportado do MZMine | Contém os _espectros de massa_ experimentais no formato Mascot Generic Format (MS1 ou MS/MS).             |\n",
    "| Tabela de picos          | `_quant.csv`      | Exportado do MZMine | Contém `row ID`, `row m/z`, `row retention time`, área de pico, e outras informações quantitativas.     |\n",
    "| Tabela de alcanos        | `.csv`      | Experimental        | Tabela de referência com número de carbonos e tempos de retenção dos alcanos (para cálculo de Kovats).  |\n",
    "| Biblioteca de RI de referência | `RI_Library.csv`      | Biblioteca externa  | Arquivo contendo dados de índices de retenção de referência de substâncias conhecidas. |\n",
    "| Biblioteca de referência | `Essential_Oils_MS1Library_1.msp`      | Biblioteca externa| Arquivo contendo espectros de referência no formato NIST MSP, com `Name`, `Num Peaks` e lista de picos. |\n",
    "\n",
    "\n",
    "⚠️ Observação: os espectros nos arquivos .mgf e .msp devem estar em formato tabular, com listas de pares m/z intensidade."
   ]
  },
  {
   "cell_type": "markdown",
   "id": "37e5541a",
   "metadata": {},
   "source": [
    "#### Importação de bibliotecas e leitura de arquivos\n",
    "\n",
    "Nesta etapa, são importadas as bibliotecas necessárias para manipulação de dados, processamento de espectros e visualização. Em seguida, os arquivos contendo os espectros experimentais (.mgf), a biblioteca de referência (.msp) e os dados de Kovats são carregados para o notebook."
   ]
  },
  {
   "cell_type": "code",
   "execution_count": 1,
   "id": "bed5fdf0",
   "metadata": {},
   "outputs": [],
   "source": [
    "# 1️⃣ IMPORTAÇÃO DE BIBLIOTECAS\n",
    "import pandas as pd\n",
    "import numpy as np\n",
    "import plotly.graph_objects as go\n",
    "import plotly.express as px\n",
    "from pathlib import Path\n",
    "import sys\n",
    "import os\n",
    "from docxtpl import DocxTemplate\n",
    "from docxtpl import InlineImage\n",
    "from docx.shared import Cm\n",
    "\n",
    "sys.path.append(os.path.abspath('..'))  # sobe um nível de pasta\n",
    "import essential_oils_kovats_processing as eokp"
   ]
  },
  {
   "cell_type": "markdown",
   "id": "191f7482",
   "metadata": {},
   "source": [
    "#### Inspeção inicial dos arquivos\n",
    "\n",
    "Aqui são exibidas as primeiras linhas dos arquivos .mgf e .msp para confirmar sua estrutura e verificar se os dados foram lidos corretamente. Essa inspeção é fundamental para garantir que o parser funcione de acordo com o formato dos arquivos."
   ]
  },
  {
   "cell_type": "code",
   "execution_count": 2,
   "id": "12fa45df",
   "metadata": {},
   "outputs": [
    {
     "name": "stdout",
     "output_type": "stream",
     "text": [
      "✅ Tabela de RTs dos alcanos importada.\n",
      "✅ Tabela de referência RI importada.\n",
      "✅ Amostra GT_PadraoHidroc_13-06-2024 importada.\n",
      "✅ Amostra GT_OE2-23_13-06-2024 importada.\n",
      "✅ Amostra GT_OE3-23_13-06-2024 importada.\n",
      "✅ Amostra GT_OE1-23_13-06-2024 importada.\n"
     ]
    }
   ],
   "source": [
    "# 2️⃣ LEITURA DOS ARQUIVOS\n",
    "\n",
    "# 📝 Caminho da pasta contendo os arquivos\n",
    "input_dir = r\"C:\\Users\\borge\\Documents\\gcms_essentialoils_Kovats\\batch\"  # substitua pelo seu caminho\n",
    "\n",
    "# 📄 Arquivo fixo de RTs dos alcanos\n",
    "file_hidrocarbon_rts = Path(\"..\") / \"resources\" / \"Hidrocarbon_RTs.csv\"\n",
    "file_ri_library = Path(\"..\") / \"resources\" / \"RI_Library.csv\"\n",
    "\n",
    "df_hidrocarbon, df_ri, sample_prefixes, dfs_quant, dfs_chrom = eokp.carregar_dados(\n",
    "    input_dir=input_dir,\n",
    "    file_hidrocarbon_rts=file_hidrocarbon_rts,\n",
    "    file_ri_library=file_ri_library\n",
    ")"
   ]
  },
  {
   "cell_type": "markdown",
   "id": "1899da50",
   "metadata": {},
   "source": [
    "#### Parsing dos espectros experimentais e da biblioteca de referência\n",
    "\n",
    "Nesta etapa, os arquivos .mgf e .msp são processados e convertidos em dicionários contendo os espectros no formato {ID: [(m/z, intensidade), ...]}. Cada espectro é identificado por um FEATURE_ID ou Name, e suas listas de picos são armazenadas para posterior comparação."
   ]
  },
  {
   "cell_type": "code",
   "execution_count": 3,
   "id": "2f4d2676",
   "metadata": {
    "scrolled": false
   },
   "outputs": [
    {
     "name": "stdout",
     "output_type": "stream",
     "text": [
      "RTs dos alcanos processados:\n",
      "Equação do polinômio:           4           3         2\n",
      "0.001072 x - 0.07951 x + 2.092 x - 19.48 x + 60.27\n",
      "R²: 0.9999\n",
      "✅ Figura salva em: images\\curva_retencao.html\n"
     ]
    }
   ],
   "source": [
    "# 3️⃣ PREPARAÇÃO DA TABELA DE ALCANOS\n",
    "# Vamos extrair apenas as colunas que interessam: número de carbonos e RT em minutos\n",
    "df_hidrocarbon = df_hidrocarbon.rename(columns=lambda x: x.strip())  # remove espaços\n",
    "rt_column = 'Current RT in minutes' if 'Current RT in minutes' in df_hidrocarbon.columns else 'Typical RT in minutes'\n",
    "df_alkanes = df_hidrocarbon[['Number of Carbon Atoms', rt_column]].dropna()\n",
    "df_alkanes[rt_column] = pd.to_numeric(df_alkanes[rt_column], errors='coerce')\n",
    "df_alkanes = df_alkanes.dropna().sort_values(rt_column)\n",
    "print(\"RTs dos alcanos processados:\")\n",
    "#display(df_alkanes)\n",
    "\n",
    "x_fit, y_fit, p_model, r_squared = eokp.fit_polynomial_trendline(\n",
    "    df_alkanes,\n",
    "    x_col='Number of Carbon Atoms',\n",
    "    y_col=rt_column,\n",
    "    degree=4)\n",
    "\n",
    "print(f\"Equação do polinômio: {p_model}\")\n",
    "print(f\"R²: {r_squared:.4f}\")\n",
    "\n",
    "fig = go.Figure()\n",
    "fig.add_trace(go.Scatter(x=df_alkanes['Number of Carbon Atoms'], y=df_alkanes[rt_column], mode='markers', name='Dados'))\n",
    "fig.add_trace(go.Scatter(x=x_fit, y=y_fit, mode='lines', name='Curva Ajustada'))\n",
    "\n",
    "fig.update_layout(\n",
    "    title=\"Curva de Retenção (Alcanos)\",\n",
    "    xaxis_title=\"Número de Carbonos\",\n",
    "    yaxis_title=\"Tempo de Retenção (min)\"\n",
    ")\n",
    "\n",
    "eokp.save_plotly_figure(fig, filename=\"curva_retencao.html\")"
   ]
  },
  {
   "cell_type": "code",
   "execution_count": 4,
   "id": "0dc3c733",
   "metadata": {},
   "outputs": [
    {
     "name": "stdout",
     "output_type": "stream",
     "text": [
      "\n",
      "🔍 Colunas disponíveis para GT_PadraoHidroc_13-06-2024:\n",
      "0: GT_PadraoHidroc_13-06-2024.CDF\n",
      "1: Unnamed: 1\n",
      "2: Unnamed: 2\n",
      "✅ Gráfico salvo como HTML em: images\\GT_PadraoHidroc_13-06-2024_chromatogram.html\n",
      "\n",
      "🔍 Colunas disponíveis para GT_OE2-23_13-06-2024:\n",
      "0: GT_OE2-23_13-06-2024.CDF\n",
      "1: Unnamed: 1\n",
      "2: Unnamed: 2\n",
      "✅ Gráfico salvo como HTML em: images\\GT_OE2-23_13-06-2024_chromatogram.html\n",
      "\n",
      "🔍 Colunas disponíveis para GT_OE3-23_13-06-2024:\n",
      "0: GT_OE3-23_13-06-2024.CDF\n",
      "1: Unnamed: 1\n",
      "2: Unnamed: 2\n",
      "✅ Gráfico salvo como HTML em: images\\GT_OE3-23_13-06-2024_chromatogram.html\n",
      "\n",
      "🔍 Colunas disponíveis para GT_OE1-23_13-06-2024:\n",
      "0: GT_OE1-23_13-06-2024.CDF\n",
      "1: Unnamed: 1\n",
      "2: Unnamed: 2\n",
      "✅ Gráfico salvo como HTML em: images\\GT_OE1-23_13-06-2024_chromatogram.html\n"
     ]
    }
   ],
   "source": [
    "# 7️⃣ PLOTAR CROMATOGRAMA (ATUALIZADO)\n",
    "for prefix, df_chrom in dfs_chrom.items():\n",
    "    eokp.plot_chromatogram_auto_multitrace(df_chrom, prefix)"
   ]
  },
  {
   "cell_type": "markdown",
   "id": "44f5c298",
   "metadata": {},
   "source": [
    "#### Cálculo do índice de Kovats e anotação preliminar\n",
    "\n",
    "Nesta etapa, é calculado o índice de Kovats para cada pico experimental com base nos tempos de retenção dos alcanos de referência. Para cada índice calculado, é realizada uma busca na biblioteca de índices de Kovats para identificar compostos potenciais dentro de uma tolerância especificada. Essa anotação preliminar associa cada pico a possíveis compostos candidatos com base exclusivamente no comportamento cromatográfico."
   ]
  },
  {
   "cell_type": "code",
   "execution_count": 5,
   "id": "18e3b9f6",
   "metadata": {},
   "outputs": [
    {
     "name": "stdout",
     "output_type": "stream",
     "text": [
      "✅ Kovats calculado para amostra GT_PadraoHidroc_13-06-2024\n",
      "✅ Kovats calculado para amostra GT_OE2-23_13-06-2024\n",
      "✅ Kovats calculado para amostra GT_OE3-23_13-06-2024\n",
      "✅ Kovats calculado para amostra GT_OE1-23_13-06-2024\n"
     ]
    }
   ],
   "source": [
    "# 4️⃣ IDENTIFICAÇÂO CONFORME ÍNDICE KOVATS\n",
    "# Aplicar a todas as amostras\n",
    "dfs_quant_processed = {}\n",
    "for prefix in sample_prefixes:\n",
    "    df_quant = dfs_quant[prefix]\n",
    "    df_quant_processed = eokp.process_sample_kovats(\n",
    "        df_quant,\n",
    "        alkane_table=df_hidrocarbon,\n",
    "        rt_column=\"Current RT in minutes\",  # ajuste conforme sua coluna real\n",
    "        ref_table=df_ri,\n",
    "        tolerance=10\n",
    "    )\n",
    "    dfs_quant_processed[prefix] = df_quant_processed\n",
    "    print(f\"✅ Kovats calculado para amostra {prefix}\")"
   ]
  },
  {
   "cell_type": "markdown",
   "id": "69ae2588",
   "metadata": {},
   "source": [
    "---"
   ]
  },
  {
   "cell_type": "markdown",
   "id": "dc10934f",
   "metadata": {},
   "source": [
    "#### Leitura e definição das funções de processamento espectral\n",
    "\n",
    "Esta etapa realiza a leitura inicial dos arquivos .mgf (espectros experimentais) e .msp (biblioteca de espectros de referência) e define as funções principais do pipeline. As funções incluem o parsing dos arquivos para estruturas de dados internas, o cálculo da similaridade de cosseno entre espectros experimentais e de referência, e a busca das melhores correspondências. Estas ferramentas são fundamentais para realizar a comparação espectral e gerar as anotações baseadas em espectrometria de massas."
   ]
  },
  {
   "cell_type": "code",
   "execution_count": 6,
   "id": "143a2d64",
   "metadata": {},
   "outputs": [
    {
     "ename": "NameError",
     "evalue": "name 'WFEqfew' is not defined",
     "output_type": "error",
     "traceback": [
      "\u001b[1;31m---------------------------------------------------------------------------\u001b[0m",
      "\u001b[1;31mNameError\u001b[0m                                 Traceback (most recent call last)",
      "\u001b[1;32m~\\AppData\\Local\\Temp\\ipykernel_13284\\4256686166.py\u001b[0m in \u001b[0;36m<module>\u001b[1;34m\u001b[0m\n\u001b[1;32m----> 1\u001b[1;33m \u001b[0mWFEqfew\u001b[0m\u001b[1;33m\u001b[0m\u001b[1;33m\u001b[0m\u001b[0m\n\u001b[0m",
      "\u001b[1;31mNameError\u001b[0m: name 'WFEqfew' is not defined"
     ]
    }
   ],
   "source": [
    "WFEqfew"
   ]
  },
  {
   "cell_type": "code",
   "execution_count": 7,
   "id": "6eb02156",
   "metadata": {},
   "outputs": [
    {
     "name": "stdout",
     "output_type": "stream",
     "text": [
      "✅ Biblioteca C:\\Users\\borge\\Desktop\\MS_software\\MZmine_3.9.0\\essential_oils_test\\Essential_Oils_MS1Library_1.msp parseada com 8 espectros\n",
      "\n",
      "🔍 Processando C:\\Users\\borge\\Documents\\gcms_essentialoils_Kovats\\batch\\GT_PadraoHidroc_13-06-2024.mgf...\n",
      "✅ 25 espectros lidos de C:\\Users\\borge\\Documents\\gcms_essentialoils_Kovats\\batch\\GT_PadraoHidroc_13-06-2024.mgf\n",
      "✅ Resultados salvos em results\\GT_PadraoHidroc_13-06-2024_matches.csv\n",
      "\n",
      "🔍 Processando C:\\Users\\borge\\Documents\\gcms_essentialoils_Kovats\\batch\\GT_OE2-23_13-06-2024.mgf...\n",
      "✅ 28 espectros lidos de C:\\Users\\borge\\Documents\\gcms_essentialoils_Kovats\\batch\\GT_OE2-23_13-06-2024.mgf\n",
      "✅ Resultados salvos em results\\GT_OE2-23_13-06-2024_matches.csv\n",
      "\n",
      "🔍 Processando C:\\Users\\borge\\Documents\\gcms_essentialoils_Kovats\\batch\\GT_OE3-23_13-06-2024.mgf...\n",
      "✅ 95 espectros lidos de C:\\Users\\borge\\Documents\\gcms_essentialoils_Kovats\\batch\\GT_OE3-23_13-06-2024.mgf\n",
      "✅ Resultados salvos em results\\GT_OE3-23_13-06-2024_matches.csv\n",
      "\n",
      "🔍 Processando C:\\Users\\borge\\Documents\\gcms_essentialoils_Kovats\\batch\\GT_OE1-23_13-06-2024.mgf...\n",
      "✅ 89 espectros lidos de C:\\Users\\borge\\Documents\\gcms_essentialoils_Kovats\\batch\\GT_OE1-23_13-06-2024.mgf\n",
      "✅ Resultados salvos em results\\GT_OE1-23_13-06-2024_matches.csv\n"
     ]
    }
   ],
   "source": [
    "# Arquivo .msp fixo\n",
    "file_msp = r\"C:\\Users\\borge\\Desktop\\MS_software\\MZmine_3.9.0\\essential_oils_test\\Essential_Oils_MS1Library_1.msp\"\n",
    "spectra_lib = eokp.parse_msp(file_msp)\n",
    "print(f\"✅ Biblioteca {file_msp} parseada com {len(spectra_lib)} espectros\")\n",
    "\n",
    "### B) Criar dicionário para armazenar resultados por amostra\n",
    "results_by_sample = {}\n",
    "\n",
    "eokp.processar_mgf_amostras(\n",
    "    sample_prefixes=sample_prefixes,\n",
    "    input_dir=input_dir,\n",
    "    spectra_lib=spectra_lib,\n",
    "    results_by_sample=results_by_sample)"
   ]
  },
  {
   "cell_type": "code",
   "execution_count": 9,
   "id": "ccee23c5",
   "metadata": {
    "scrolled": false
   },
   "outputs": [
    {
     "name": "stdout",
     "output_type": "stream",
     "text": [
      "\n",
      "🔬 Matches com Similaridade ≥ 0.9 para GT_PadraoHidroc_13-06-2024\n"
     ]
    },
    {
     "data": {
      "text/html": [
       "<div>\n",
       "<style scoped>\n",
       "    .dataframe tbody tr th:only-of-type {\n",
       "        vertical-align: middle;\n",
       "    }\n",
       "\n",
       "    .dataframe tbody tr th {\n",
       "        vertical-align: top;\n",
       "    }\n",
       "\n",
       "    .dataframe thead th {\n",
       "        text-align: right;\n",
       "    }\n",
       "</style>\n",
       "<table border=\"1\" class=\"dataframe\">\n",
       "  <thead>\n",
       "    <tr style=\"text-align: right;\">\n",
       "      <th></th>\n",
       "      <th>FEATURE_ID</th>\n",
       "      <th>Best Match Name</th>\n",
       "      <th>Similarity</th>\n",
       "    </tr>\n",
       "  </thead>\n",
       "  <tbody>\n",
       "    <tr>\n",
       "      <th>2</th>\n",
       "      <td>1</td>\n",
       "      <td>(+)-(Z)-Limonene oxide</td>\n",
       "      <td>1.0</td>\n",
       "    </tr>\n",
       "    <tr>\n",
       "      <th>4</th>\n",
       "      <td>2</td>\n",
       "      <td>(+)-(Z)-Limonene oxide</td>\n",
       "      <td>0.9</td>\n",
       "    </tr>\n",
       "    <tr>\n",
       "      <th>16</th>\n",
       "      <td>5</td>\n",
       "      <td>(+)-(Z)-Limonene oxide</td>\n",
       "      <td>0.9</td>\n",
       "    </tr>\n",
       "    <tr>\n",
       "      <th>20</th>\n",
       "      <td>6</td>\n",
       "      <td>(+)-(Z)-Limonene oxide</td>\n",
       "      <td>0.9</td>\n",
       "    </tr>\n",
       "    <tr>\n",
       "      <th>24</th>\n",
       "      <td>7</td>\n",
       "      <td>(+)-(Z)-Limonene oxide</td>\n",
       "      <td>0.9</td>\n",
       "    </tr>\n",
       "  </tbody>\n",
       "</table>\n",
       "</div>"
      ],
      "text/plain": [
       "   FEATURE_ID         Best Match Name  Similarity\n",
       "2           1  (+)-(Z)-Limonene oxide         1.0\n",
       "4           2  (+)-(Z)-Limonene oxide         0.9\n",
       "16          5  (+)-(Z)-Limonene oxide         0.9\n",
       "20          6  (+)-(Z)-Limonene oxide         0.9\n",
       "24          7  (+)-(Z)-Limonene oxide         0.9"
      ]
     },
     "metadata": {},
     "output_type": "display_data"
    },
    {
     "name": "stdout",
     "output_type": "stream",
     "text": [
      "\n",
      "🔬 Matches com Similaridade ≥ 0.9 para GT_OE2-23_13-06-2024\n"
     ]
    },
    {
     "data": {
      "text/html": [
       "<div>\n",
       "<style scoped>\n",
       "    .dataframe tbody tr th:only-of-type {\n",
       "        vertical-align: middle;\n",
       "    }\n",
       "\n",
       "    .dataframe tbody tr th {\n",
       "        vertical-align: top;\n",
       "    }\n",
       "\n",
       "    .dataframe thead th {\n",
       "        text-align: right;\n",
       "    }\n",
       "</style>\n",
       "<table border=\"1\" class=\"dataframe\">\n",
       "  <thead>\n",
       "    <tr style=\"text-align: right;\">\n",
       "      <th></th>\n",
       "      <th>FEATURE_ID</th>\n",
       "      <th>Best Match Name</th>\n",
       "      <th>Similarity</th>\n",
       "    </tr>\n",
       "  </thead>\n",
       "  <tbody>\n",
       "    <tr>\n",
       "      <th>3</th>\n",
       "      <td>2</td>\n",
       "      <td>myrcene</td>\n",
       "      <td>0.90</td>\n",
       "    </tr>\n",
       "    <tr>\n",
       "      <th>5</th>\n",
       "      <td>3</td>\n",
       "      <td>(+)-(E)-Limonene oxide</td>\n",
       "      <td>0.99</td>\n",
       "    </tr>\n",
       "    <tr>\n",
       "      <th>9</th>\n",
       "      <td>5</td>\n",
       "      <td>δ-3-carene</td>\n",
       "      <td>0.98</td>\n",
       "    </tr>\n",
       "    <tr>\n",
       "      <th>10</th>\n",
       "      <td>5</td>\n",
       "      <td>sabinene</td>\n",
       "      <td>0.97</td>\n",
       "    </tr>\n",
       "    <tr>\n",
       "      <th>11</th>\n",
       "      <td>6</td>\n",
       "      <td>(+-)-Linalool</td>\n",
       "      <td>0.92</td>\n",
       "    </tr>\n",
       "  </tbody>\n",
       "</table>\n",
       "</div>"
      ],
      "text/plain": [
       "   FEATURE_ID         Best Match Name  Similarity\n",
       "3           2                 myrcene        0.90\n",
       "5           3  (+)-(E)-Limonene oxide        0.99\n",
       "9           5              δ-3-carene        0.98\n",
       "10          5                sabinene        0.97\n",
       "11          6           (+-)-Linalool        0.92"
      ]
     },
     "metadata": {},
     "output_type": "display_data"
    },
    {
     "name": "stdout",
     "output_type": "stream",
     "text": [
      "\n",
      "🔬 Matches com Similaridade ≥ 0.9 para GT_OE3-23_13-06-2024\n"
     ]
    },
    {
     "data": {
      "text/html": [
       "<div>\n",
       "<style scoped>\n",
       "    .dataframe tbody tr th:only-of-type {\n",
       "        vertical-align: middle;\n",
       "    }\n",
       "\n",
       "    .dataframe tbody tr th {\n",
       "        vertical-align: top;\n",
       "    }\n",
       "\n",
       "    .dataframe thead th {\n",
       "        text-align: right;\n",
       "    }\n",
       "</style>\n",
       "<table border=\"1\" class=\"dataframe\">\n",
       "  <thead>\n",
       "    <tr style=\"text-align: right;\">\n",
       "      <th></th>\n",
       "      <th>FEATURE_ID</th>\n",
       "      <th>Best Match Name</th>\n",
       "      <th>Similarity</th>\n",
       "    </tr>\n",
       "  </thead>\n",
       "  <tbody>\n",
       "    <tr>\n",
       "      <th>0</th>\n",
       "      <td>1</td>\n",
       "      <td>(+-)-Limonene</td>\n",
       "      <td>1.00</td>\n",
       "    </tr>\n",
       "    <tr>\n",
       "      <th>2</th>\n",
       "      <td>2</td>\n",
       "      <td>(+-)-Limonene</td>\n",
       "      <td>0.95</td>\n",
       "    </tr>\n",
       "    <tr>\n",
       "      <th>4</th>\n",
       "      <td>2</td>\n",
       "      <td>(+)-(Z)-Limonene oxide</td>\n",
       "      <td>0.90</td>\n",
       "    </tr>\n",
       "    <tr>\n",
       "      <th>5</th>\n",
       "      <td>2</td>\n",
       "      <td>δ-3-carene</td>\n",
       "      <td>0.98</td>\n",
       "    </tr>\n",
       "    <tr>\n",
       "      <th>7</th>\n",
       "      <td>2</td>\n",
       "      <td>sabinene</td>\n",
       "      <td>0.99</td>\n",
       "    </tr>\n",
       "  </tbody>\n",
       "</table>\n",
       "</div>"
      ],
      "text/plain": [
       "  FEATURE_ID         Best Match Name  Similarity\n",
       "0          1           (+-)-Limonene        1.00\n",
       "2          2           (+-)-Limonene        0.95\n",
       "4          2  (+)-(Z)-Limonene oxide        0.90\n",
       "5          2              δ-3-carene        0.98\n",
       "7          2                sabinene        0.99"
      ]
     },
     "metadata": {},
     "output_type": "display_data"
    },
    {
     "name": "stdout",
     "output_type": "stream",
     "text": [
      "\n",
      "🔬 Matches com Similaridade ≥ 0.9 para GT_OE1-23_13-06-2024\n"
     ]
    },
    {
     "data": {
      "text/html": [
       "<div>\n",
       "<style scoped>\n",
       "    .dataframe tbody tr th:only-of-type {\n",
       "        vertical-align: middle;\n",
       "    }\n",
       "\n",
       "    .dataframe tbody tr th {\n",
       "        vertical-align: top;\n",
       "    }\n",
       "\n",
       "    .dataframe thead th {\n",
       "        text-align: right;\n",
       "    }\n",
       "</style>\n",
       "<table border=\"1\" class=\"dataframe\">\n",
       "  <thead>\n",
       "    <tr style=\"text-align: right;\">\n",
       "      <th></th>\n",
       "      <th>FEATURE_ID</th>\n",
       "      <th>Best Match Name</th>\n",
       "      <th>Similarity</th>\n",
       "    </tr>\n",
       "  </thead>\n",
       "  <tbody>\n",
       "    <tr>\n",
       "      <th>0</th>\n",
       "      <td>1</td>\n",
       "      <td>δ-3-carene</td>\n",
       "      <td>0.96</td>\n",
       "    </tr>\n",
       "    <tr>\n",
       "      <th>1</th>\n",
       "      <td>1</td>\n",
       "      <td>sabinene</td>\n",
       "      <td>0.96</td>\n",
       "    </tr>\n",
       "    <tr>\n",
       "      <th>2</th>\n",
       "      <td>1</td>\n",
       "      <td>α-pinene</td>\n",
       "      <td>0.99</td>\n",
       "    </tr>\n",
       "    <tr>\n",
       "      <th>3</th>\n",
       "      <td>2</td>\n",
       "      <td>(+-)-Linalool</td>\n",
       "      <td>0.91</td>\n",
       "    </tr>\n",
       "    <tr>\n",
       "      <th>5</th>\n",
       "      <td>2</td>\n",
       "      <td>δ-3-carene</td>\n",
       "      <td>0.98</td>\n",
       "    </tr>\n",
       "  </tbody>\n",
       "</table>\n",
       "</div>"
      ],
      "text/plain": [
       "  FEATURE_ID Best Match Name  Similarity\n",
       "0          1      δ-3-carene        0.96\n",
       "1          1        sabinene        0.96\n",
       "2          1        α-pinene        0.99\n",
       "3          2   (+-)-Linalool        0.91\n",
       "5          2      δ-3-carene        0.98"
      ]
     },
     "metadata": {},
     "output_type": "display_data"
    }
   ],
   "source": [
    "for prefix, df in results_by_sample.items():\n",
    "    print(f\"\\n🔬 Matches com Similaridade ≥ 0.9 para {prefix}\")\n",
    "    high_sim = df[df['Similarity'] >= 0.9]\n",
    "    if not high_sim.empty:\n",
    "        display(high_sim.head(5))\n",
    "    else:\n",
    "        print(\"Nenhum match com alta similaridade.\")"
   ]
  },
  {
   "cell_type": "markdown",
   "id": "e533ade7",
   "metadata": {},
   "source": [
    "#### Combinação das anotações por índice de Kovats e espectrometria de massas\n",
    "\n",
    "Nesta etapa, os resultados da anotação por índice de Kovats são integrados com os resultados da anotação espectral, permitindo uma visão consolidada para cada row ID. A operação de merge garante que as informações experimentais (m/z, tempo de retenção), o índice de Kovats, a anotação por Kovats e as correspondências espectrais (nome e similaridade) fiquem reunidas em uma única tabela. O resultado é exibido no notebook e exportado para um arquivo Excel para posterior análise."
   ]
  },
  {
   "cell_type": "markdown",
   "id": "47c52018",
   "metadata": {},
   "source": [
    "##### Exportação dos resultados finais\n",
    "\n",
    "A tabela consolidada contendo as anotações combinadas é exportada para um arquivo Excel, permitindo análise externa, conferência manual ou integração em relatórios de qualidade."
   ]
  },
  {
   "cell_type": "code",
   "execution_count": 12,
   "id": "86597092",
   "metadata": {},
   "outputs": [
    {
     "name": "stdout",
     "output_type": "stream",
     "text": [
      "⚠️ Ignorando amostra padrão GT_PadraoHidroc_13-06-2024\n",
      "\n",
      "🔍 Processando fusão para GT_OE2-23_13-06-2024...\n",
      "✅ Fusão completa para GT_OE2-23_13-06-2024\n",
      "✅ Arquivo salvo: results\\GT_OE2-23_13-06-2024_Identificacao_Combinada.xlsx\n",
      "\n",
      "🔍 Processando fusão para GT_OE3-23_13-06-2024...\n",
      "✅ Fusão completa para GT_OE3-23_13-06-2024\n",
      "✅ Arquivo salvo: results\\GT_OE3-23_13-06-2024_Identificacao_Combinada.xlsx\n",
      "\n",
      "🔍 Processando fusão para GT_OE1-23_13-06-2024...\n",
      "✅ Fusão completa para GT_OE1-23_13-06-2024\n",
      "✅ Arquivo salvo: results\\GT_OE1-23_13-06-2024_Identificacao_Combinada.xlsx\n",
      "\n",
      "🎉 Processamento de todas as amostras concluído.\n"
     ]
    }
   ],
   "source": [
    "eokp.processar_fusao_amostras(\n",
    "    sample_prefixes=sample_prefixes,\n",
    "    dfs_quant_processed=dfs_quant_processed,\n",
    "    results_by_sample=results_by_sample,\n",
    "    prefix_ignorado=\"GT_PadraoHidroc_13-06-2024\"\n",
    ")"
   ]
  },
  {
   "cell_type": "markdown",
   "id": "41c2b7dc",
   "metadata": {},
   "source": [
    "---\n",
    "### Relatório"
   ]
  },
  {
   "cell_type": "code",
   "execution_count": 13,
   "id": "44a14d6e",
   "metadata": {},
   "outputs": [
    {
     "name": "stdout",
     "output_type": "stream",
     "text": [
      "⚠️ Ignorando amostra padrão GT_PadraoHidroc_13-06-2024\n",
      "\n",
      "🔍 Processando fusão e relatório para GT_OE2-23_13-06-2024...\n",
      "✅ Fusão completa para GT_OE2-23_13-06-2024\n",
      "✅ Arquivo salvo: results\\GT_OE2-23_13-06-2024_Identificacao_Combinada.xlsx\n",
      "✅ Relatório Word salvo: results\\GT_OE2-23_13-06-2024_relatorio.docx\n",
      "\n",
      "🔍 Processando fusão e relatório para GT_OE3-23_13-06-2024...\n",
      "✅ Fusão completa para GT_OE3-23_13-06-2024\n",
      "✅ Arquivo salvo: results\\GT_OE3-23_13-06-2024_Identificacao_Combinada.xlsx\n",
      "✅ Relatório Word salvo: results\\GT_OE3-23_13-06-2024_relatorio.docx\n",
      "\n",
      "🔍 Processando fusão e relatório para GT_OE1-23_13-06-2024...\n",
      "✅ Fusão completa para GT_OE1-23_13-06-2024\n",
      "✅ Arquivo salvo: results\\GT_OE1-23_13-06-2024_Identificacao_Combinada.xlsx\n",
      "✅ Relatório Word salvo: results\\GT_OE1-23_13-06-2024_relatorio.docx\n"
     ]
    }
   ],
   "source": [
    "for prefix in sample_prefixes:\n",
    "    eokp.processar_amostra(prefix, dfs_quant_processed, results_by_sample)"
   ]
  }
 ],
 "metadata": {
  "kernelspec": {
   "display_name": "Python 3 (ipykernel)",
   "language": "python",
   "name": "python3"
  },
  "language_info": {
   "codemirror_mode": {
    "name": "ipython",
    "version": 3
   },
   "file_extension": ".py",
   "mimetype": "text/x-python",
   "name": "python",
   "nbconvert_exporter": "python",
   "pygments_lexer": "ipython3",
   "version": "3.11.6"
  }
 },
 "nbformat": 4,
 "nbformat_minor": 5
}
